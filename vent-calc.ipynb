{
 "cells": [
  {
   "cell_type": "code",
   "execution_count": null,
   "metadata": {},
   "outputs": [],
   "source": [
    "from pint import UnitRegistry\n",
    "\n",
    "import numpy as np\n",
    "import tabulate\n",
    "import numpy as np\n",
    "from scipy.interpolate import CubicSpline\n",
    "import matplotlib.pyplot as plt"
   ]
  },
  {
   "cell_type": "code",
   "execution_count": null,
   "metadata": {},
   "outputs": [],
   "source": [
    "# Инициируем работу с единицами измерения\n",
    "ureg = UnitRegistry()\n",
    "Q = ureg.Quantity\n",
    "\n",
    "\n",
    "ureg.define(\"person=people\")\n",
    "Person = People = Q(1, \"person\")"
   ]
  },
  {
   "cell_type": "code",
   "execution_count": null,
   "metadata": {},
   "outputs": [],
   "source": [
    "# Табличные величины\n",
    "# Воздух\n",
    "air_specific_heat = 1030.00 * ureg.joule/(ureg.kg*ureg.kelvin)\n",
    "air_mole_weight = 29*ureg.gram/ureg.mole\n",
    "air_mole_volume = 22.4*ureg.liter/ureg.mole\n",
    "air_density = (air_mole_weight/air_mole_volume).to(ureg.kg/ureg.meter**3)\n",
    "\n",
    "air_specific_heat_vol = air_specific_heat*air_density\n",
    "\n",
    "# Вода\n",
    "# Удельная теплоёмкость\n",
    "water_specific_heat = 4180.6 * ureg.joule/(ureg.kg*ureg.kelvin)\n",
    "# Удельная теплота парообразования\n",
    "water_specific_heat_vpr = 2260000 * ureg.joule/ureg.kg\n",
    "\n",
    "tabulate.tabulate(\n",
    "    tablefmt='html',\n",
    "    tabular_data=[\n",
    "        [\"Плотность воздуха\", air_density],\n",
    "        [\"Обёмная удельная теплоёмкость воздуха\", air_specific_heat_vol],\n",
    "    ]\n",
    ")"
   ]
  },
  {
   "cell_type": "code",
   "execution_count": null,
   "metadata": {},
   "outputs": [],
   "source": [
    "# Таблица влажности воздуха\n",
    "\n",
    "abs_hum_unit = ureg.gram/ureg.meter**3\n",
    "\n",
    "air_table_temperatures = [Q(x, ureg.celsius).to(ureg.kelvin) for x in [0, 5, 10, 15, 20, 30, 35]]\n",
    "air_table_abs_humidies = [x*abs_hum_unit for x in [4.6, 6.5, 9.2, 12.8, 17.5, 31.8, 42.1]]\n",
    "\n",
    "air_table_temperatures_untyped = Q.from_list(air_table_temperatures)\n",
    "air_table_abs_humidies_untyped = Q.from_list(air_table_abs_humidies)\n",
    "\n",
    "air_table_spline = CubicSpline(air_table_temperatures_untyped, air_table_abs_humidies_untyped)\n",
    "\n",
    "def air_max_humidity(temp: float) -> float:\n",
    "    return air_table_spline(temp.to(ureg.kelvin)/ureg.kelvin)*abs_hum_unit\n",
    "\n",
    "temps = np.linspace(min(air_table_temperatures_untyped), max(air_table_temperatures_untyped), 1000)\n",
    "\n",
    "\n",
    "air_max_humidity(Q(22, ureg.celsius))\n",
    "plt.plot(\n",
    "    Q.from_list(air_table_temperatures_untyped, ureg.celsius),\n",
    "    air_table_abs_humidies_untyped,\n",
    "    'o'\n",
    ")\n",
    "plt.plot(\n",
    "    Q.from_list(temps, ureg.celsius),\n",
    "    air_table_spline(temps),\n",
    "    '-',\n",
    ")\n",
    "plt.show()"
   ]
  },
  {
   "cell_type": "code",
   "execution_count": null,
   "metadata": {},
   "outputs": [],
   "source": [
    "# Входные параметры:\n",
    "# 1. Жилая площадь\n",
    "living_area = 70*ureg.meter**2\n",
    "ceiling_height = 2.6*ureg.meter\n",
    "\n",
    "# 2. Количество людей\n",
    "people_count = 3*People\n",
    "\n",
    "# 3. Температура\n",
    "street_temp = Q(-40, ureg.celsius)\n",
    "internal_temp = Q(24, ureg.celsius)\n",
    "supply_air_temp = Q(15, ureg.celsius)\n",
    "\n",
    "# 4. Параметры воздухообмена\n",
    "required_air_per_person = 30 * ureg.meter**3/(Person*ureg.hour)\n",
    "living_space_airflow_k = 1 * 1/ureg.hour\n",
    "\n",
    "# 5. Параметры влажности воздуха\n",
    "required_humidity = 40*ureg.percent\n",
    "# 6. Начальная температура воды\n",
    "water_starting_temp = Q(10, ureg.celsius)\n"
   ]
  },
  {
   "cell_type": "code",
   "execution_count": null,
   "metadata": {},
   "outputs": [],
   "source": [
    "living_volume = (living_area*ceiling_height).to(ureg.meter**3)\n",
    "living_volume"
   ]
  },
  {
   "cell_type": "code",
   "execution_count": null,
   "metadata": {},
   "outputs": [],
   "source": [
    "required_airflow_by_people = required_air_per_person*people_count\n",
    "\n",
    "required_airflow_by_living_volume = living_volume*living_space_airflow_k\n",
    "required_airflow = max(required_airflow_by_people, required_airflow_by_living_volume)\n",
    "\n",
    "tabulate.tabulate(\n",
    "    tablefmt='html',\n",
    "    tabular_data=[\n",
    "        [\"Жилой объём\", living_volume],\n",
    "        [\"Приток по людям\", required_airflow_by_people],\n",
    "        [\"Приток по воздухообмену\", required_airflow_by_living_volume],\n",
    "        [\"Приток\", required_airflow],\n",
    "    ]\n",
    ")"
   ]
  },
  {
   "cell_type": "code",
   "execution_count": null,
   "metadata": {},
   "outputs": [],
   "source": [
    "# Энергетика вентиляции\n",
    "# 1. Нагрев воздуха\n",
    "air_heat_power = (required_airflow*air_specific_heat_vol*(supply_air_temp-street_temp).to(ureg.kelvin)).to(ureg.kilowatt)\n",
    "# 2. Увлажнение воды\n",
    "evaporation_energy = (Q(100, ureg.celsius) - water_starting_temp).to(ureg.kelvin)*water_specific_heat + water_specific_heat_vpr\n",
    "\n",
    "humidification_power = (required_airflow * air_max_humidity(internal_temp).to(ureg.kg/ureg.meter**3) * float(required_humidity)*evaporation_energy).to(ureg.kilowatt)\n",
    "\n",
    "\n",
    "tabulate.tabulate(\n",
    "    tablefmt='html',\n",
    "    tabular_data=[\n",
    "        [\"Мощность на нагрев воздуха\", air_heat_power],\n",
    "        [\"Мощность на увлажнение\", humidification_power],\n",
    "        [\"Суммарная мощность\", sum([air_heat_power, humidification_power])],\n",
    "    ]\n",
    ")"
   ]
  }
 ],
 "metadata": {
  "kernelspec": {
   "display_name": ".venv",
   "language": "python",
   "name": "python3"
  },
  "language_info": {
   "codemirror_mode": {
    "name": "ipython",
    "version": 3
   },
   "file_extension": ".py",
   "mimetype": "text/x-python",
   "name": "python",
   "nbconvert_exporter": "python",
   "pygments_lexer": "ipython3",
   "version": "3.11.5"
  }
 },
 "nbformat": 4,
 "nbformat_minor": 2
}
